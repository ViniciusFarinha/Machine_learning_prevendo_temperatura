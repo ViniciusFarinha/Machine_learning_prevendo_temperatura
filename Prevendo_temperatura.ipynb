{
  "nbformat": 4,
  "nbformat_minor": 0,
  "metadata": {
    "colab": {
      "provenance": [],
      "authorship_tag": "ABX9TyO5hTgrjloGEmSd4s9YHmNt",
      "include_colab_link": true
    },
    "kernelspec": {
      "name": "python3",
      "display_name": "Python 3"
    },
    "language_info": {
      "name": "python"
    }
  },
  "cells": [
    {
      "cell_type": "markdown",
      "metadata": {
        "id": "view-in-github",
        "colab_type": "text"
      },
      "source": [
        "<a href=\"https://colab.research.google.com/github/ViniciusFarinha/Machine_learning_prevendo_temperatura/blob/main/Prevendo_temperatura.ipynb\" target=\"_parent\"><img src=\"https://colab.research.google.com/assets/colab-badge.svg\" alt=\"Open In Colab\"/></a>"
      ]
    },
    {
      "cell_type": "code",
      "execution_count": null,
      "metadata": {
        "id": "dAHNjabW1AmL"
      },
      "outputs": [],
      "source": [
        "import tensorflow as tf\n",
        "import numpy as np"
      ]
    },
    {
      "cell_type": "markdown",
      "source": [
        "Depois de importar as bibliotecas, colocamos os valores de input e output.\n",
        "importante informar o dtype."
      ],
      "metadata": {
        "id": "WxfprAtS5_eP"
      }
    },
    {
      "cell_type": "code",
      "source": [
        "celsius    = np.array([-40, -10,  0,  8, 15, 22,  38, 100],  dtype=float)\n",
        "fahrenheit = np.array([-40,  14, 32, 46.4, 59, 71.6, 100, 212],  dtype=float)"
      ],
      "metadata": {
        "id": "MGc680jD1DGz"
      },
      "execution_count": null,
      "outputs": []
    },
    {
      "cell_type": "markdown",
      "source": [
        "Layer é um dos elementos do modelo.É nele que ficam os neurônios\n",
        "\n"
      ],
      "metadata": {
        "id": "zNQ10bib6REW"
      }
    },
    {
      "cell_type": "code",
      "source": [
        "\n",
        "# o unpit_shape é a variável que define o tamanho dos dados de entrada.\n",
        "#Como a variável celsius só possui 1 dimensão, usamos input_shape=[1]\n",
        "layer1 = tf.keras.layers.Dense(units=1, input_shape=[1])\n",
        "\n",
        "# Sequênciamento do layer\n",
        "model = tf.keras.Sequential([layer1])\n",
        "\n",
        "#Função compile - loss(quantidade de erros que o modelo pode ter) e optimizer(tentar melhorar o modelo)\n",
        "model.compile(loss='mean_squared_error',optimizer = tf.keras.optimizers.Adam(0.1))\n",
        "\n"
      ],
      "metadata": {
        "id": "F1SXLUvz1EZU"
      },
      "execution_count": null,
      "outputs": []
    },
    {
      "cell_type": "markdown",
      "source": [
        "Definimos a variável history e nela realizamos o treinamento do modelo com model.fit(x ,y , epochs,verbose).\n",
        "* epochs= quantidade de ciclos que o modelo vai ter durante o treinamento.\n",
        "* verbose = andamento de todos os ciclos do epochs,mostrando a loss diminuindo ao longo do treinamento e sua estabilização\n",
        "\n",
        "\n",
        "Fazemos isso para termos um histórico das fases de treinamento do modelo.\n"
      ],
      "metadata": {
        "id": "7Umvn_Fg7PlK"
      }
    },
    {
      "cell_type": "code",
      "source": [
        "history = model.fit(celsius, fahrenheit, epochs=500, verbose=False)\n",
        "print(\"Treinamento Concluído\")"
      ],
      "metadata": {
        "colab": {
          "base_uri": "https://localhost:8080/"
        },
        "id": "jKomeFtd1FQ9",
        "outputId": "661cb759-ac7d-41e0-e1cf-3ec68de739b2"
      },
      "execution_count": null,
      "outputs": [
        {
          "output_type": "stream",
          "name": "stdout",
          "text": [
            "Treinamento Concluído\n"
          ]
        }
      ]
    },
    {
      "cell_type": "code",
      "source": [
        "import matplotlib.pyplot as plt\n",
        "plt.xlabel('Epoch Number')\n",
        "plt.ylabel(\"Loss Magnitude\")\n",
        "plt.plot(history.history['loss'])"
      ],
      "metadata": {
        "colab": {
          "base_uri": "https://localhost:8080/",
          "height": 298
        },
        "id": "VzH91CrQ1GqS",
        "outputId": "9c7fcc9b-fbc3-4e07-b789-6593ce26c850"
      },
      "execution_count": null,
      "outputs": [
        {
          "output_type": "execute_result",
          "data": {
            "text/plain": [
              "[<matplotlib.lines.Line2D at 0x7f4aa6ccdd90>]"
            ]
          },
          "metadata": {},
          "execution_count": 19
        },
        {
          "output_type": "display_data",
          "data": {
            "text/plain": [
              "<Figure size 432x288 with 1 Axes>"
            ],
            "image/png": "[encoded data removed]"
          },
          "metadata": {
            "needs_background": "light"
          }
        }
      ]
    },
    {
      "cell_type": "code",
      "source": [
        "print(model.predict([100]))"
      ],
      "metadata": {
        "colab": {
          "base_uri": "https://localhost:8080/"
        },
        "id": "5-Y0fbFX1I1i",
        "outputId": "48396b67-e093-4d5b-ec7d-5c2d1faf6457"
      },
      "execution_count": null,
      "outputs": [
        {
          "output_type": "stream",
          "name": "stdout",
          "text": [
            "1/1 [==============================] - 0s 62ms/step\n",
            "[[211.77383]]\n"
          ]
        }
      ]
    },
    {
      "cell_type": "markdown",
      "source": [
        "Usando a função get_weights(), buscamos a informação dtype = tipo de dado , e os arrys x e  y da função y = ax + b.\n",
        "\n",
        "Neste caso, a função que transforma celsius em fahreinheit é Fº = (Cº * 1,8) + 32.\n"
      ],
      "metadata": {
        "id": "VGsVdQW416oz"
      }
    },
    {
      "cell_type": "code",
      "source": [
        "l1.get_weights()"
      ],
      "metadata": {
        "colab": {
          "base_uri": "https://localhost:8080/"
        },
        "id": "aeU6KS8j1qoQ",
        "outputId": "9cc4fdd6-41df-4890-d4a4-b90526bd74b7"
      },
      "execution_count": null,
      "outputs": [
        {
          "output_type": "execute_result",
          "data": {
            "text/plain": [
              "[array([[1.8216343]], dtype=float32), array([29.013712], dtype=float32)]"
            ]
          },
          "metadata": {},
          "execution_count": 12
        }
      ]
    },
    {
      "cell_type": "markdown",
      "source": [
        "Aplicando o valor na função em um calculadora temos o output de 212Cº e, o resultado do aprendizado de máquina deu em 211.77383.\n",
        "A margem de erro é pequena.\n",
        "A medida que eu coloco mais valores de input e output, mais assertiva se torna minha predição\n"
      ],
      "metadata": {
        "id": "ci1ZvJ8L3QdH"
      }
    }
  ]
}